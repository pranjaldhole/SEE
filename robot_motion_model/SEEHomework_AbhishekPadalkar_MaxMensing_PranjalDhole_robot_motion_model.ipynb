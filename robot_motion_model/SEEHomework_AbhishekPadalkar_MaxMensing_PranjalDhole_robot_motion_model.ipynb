{
 "cells": [
  {
   "cell_type": "markdown",
   "metadata": {},
   "source": [
    "# Hochschule Bonn-Rhein-Sieg\n",
    "### Scientific Experimentation and Evaluation, SS18\n",
    "### Assignment 3\n",
    "\n",
    "submitted by: `Abhishek Padalkar, Max Mensing, Pranjal Dhole`"
   ]
  },
  {
   "cell_type": "markdown",
   "metadata": {
    "heading_collapsed": true
   },
   "source": [
    "## Packages"
   ]
  },
  {
   "cell_type": "code",
   "execution_count": null,
   "metadata": {
    "hidden": true
   },
   "outputs": [],
   "source": [
    "import numpy as np\n",
    "from math import atan2\n",
    "\n",
    "import pandas\n",
    "import sys, os\n",
    "\n",
    "import matplotlib.pyplot as plt\n",
    "from mpl_toolkits.axes_grid1.inset_locator import zoomed_inset_axes, mark_inset\n",
    "import seaborn as sb\n",
    "\n",
    "sys.path.append(os.getcwd())\n",
    "%matplotlib inline"
   ]
  },
  {
   "cell_type": "markdown",
   "metadata": {
    "heading_collapsed": true
   },
   "source": [
    "## Importing data"
   ]
  },
  {
   "cell_type": "code",
   "execution_count": null,
   "metadata": {
    "hidden": true
   },
   "outputs": [],
   "source": [
    "data = pandas.read_csv('data/motionData.csv', header=[0,1,2])\n",
    "display(data.head(10))"
   ]
  },
  {
   "cell_type": "code",
   "execution_count": null,
   "metadata": {
    "hidden": true
   },
   "outputs": [],
   "source": [
    "database = data.as_matrix()\n",
    "data_array = database.copy()\n",
    "straight_motion_data = data_array[:,0:4]\n",
    "right_turn_data = data_array[:,4:8]\n",
    "left_turn_data = data_array[:,8:12]"
   ]
  },
  {
   "cell_type": "markdown",
   "metadata": {},
   "source": [
    "## Initial position of robot LED centers"
   ]
  },
  {
   "cell_type": "code",
   "execution_count": null,
   "metadata": {},
   "outputs": [],
   "source": [
    "# Starting position of robot LED centers\n",
    "wheel_Rx0_s = 0.0\n",
    "wheel_Ry0_s = 20.6\n",
    "wheel_Lx0_s = 0.0\n",
    "wheel_Ly0_s = 35.1\n",
    "\n",
    "wheel_Rx0_r = 0.0\n",
    "wheel_Ry0_r = 20.6\n",
    "wheel_Lx0_r = 0.0\n",
    "wheel_Ly0_r = 35.1\n",
    "\n",
    "wheel_Rx0_l = 0.0\n",
    "wheel_Ry0_l = 20.6\n",
    "wheel_Lx0_l = 0.0\n",
    "wheel_Ly0_l = 35.1"
   ]
  },
  {
   "cell_type": "markdown",
   "metadata": {},
   "source": [
    "## Supposed distance to be travelled (correct from analytical calculations, if incorrect)"
   ]
  },
  {
   "cell_type": "code",
   "execution_count": null,
   "metadata": {},
   "outputs": [],
   "source": [
    "# supposed distance to be travelled by robot\n",
    "s_rx0_distance = 40.5\n",
    "s_ry0_distance = 0\n",
    "s_lx0_distance = 40.5\n",
    "s_ly0_distance = 0\n",
    "\n",
    "r_rx0_distance = 10\n",
    "r_ry0_distance = 20\n",
    "r_lx0_distance = 25\n",
    "r_ly0_distance = 30\n",
    "\n",
    "l_rx0_distance = 25\n",
    "l_ry0_distance = 30\n",
    "l_lx0_distance = 10\n",
    "l_ly0_distance = 20"
   ]
  },
  {
   "cell_type": "markdown",
   "metadata": {},
   "source": [
    "## Final position"
   ]
  },
  {
   "cell_type": "markdown",
   "metadata": {},
   "source": [
    "### Final position of robot LED centers"
   ]
  },
  {
   "cell_type": "code",
   "execution_count": null,
   "metadata": {},
   "outputs": [],
   "source": [
    "# Final position of robot LED centers\n",
    "wheel_Rx_s = straight_motion_data[:,0]\n",
    "wheel_Ry_s = straight_motion_data[:,1]\n",
    "wheel_Lx_s = straight_motion_data[:,2]\n",
    "wheel_Ly_s = straight_motion_data[:,3]\n",
    "\n",
    "wheel_Rx_r = right_turn_data[:,0]\n",
    "wheel_Ry_r = right_turn_data[:,1]\n",
    "wheel_Lx_r = right_turn_data[:,2]\n",
    "wheel_Ly_r = right_turn_data[:,3]\n",
    "\n",
    "wheel_Rx_l = left_turn_data[:,0]\n",
    "wheel_Ry_l = left_turn_data[:,1]\n",
    "wheel_Lx_l = left_turn_data[:,2]\n",
    "wheel_Ly_l = left_turn_data[:,3]"
   ]
  },
  {
   "cell_type": "markdown",
   "metadata": {},
   "source": [
    "### Distance calculations"
   ]
  },
  {
   "cell_type": "code",
   "execution_count": null,
   "metadata": {},
   "outputs": [],
   "source": [
    "# Distance travelled by robot wheels\n",
    "s_rx_distance = np.absolute(wheel_Rx_s - wheel_Rx0_s)\n",
    "s_ry_distance = np.absolute(wheel_Ry_s - wheel_Ry0_s)\n",
    "s_lx_distance = np.absolute(wheel_Lx_s - wheel_Lx0_s)\n",
    "s_ly_distance = np.absolute(wheel_Ly_s - wheel_Ly0_s)\n",
    "\n",
    "r_rx_distance = np.absolute(wheel_Rx_r - wheel_Rx0_r)\n",
    "r_ry_distance = np.absolute(wheel_Ry_r - wheel_Ry0_r)\n",
    "r_lx_distance = np.absolute(wheel_Lx_r - wheel_Lx0_r)\n",
    "r_ly_distance = np.absolute(wheel_Ly_r - wheel_Ly0_r)\n",
    "\n",
    "l_rx_distance = np.absolute(wheel_Rx_l - wheel_Rx0_l)\n",
    "l_ry_distance = np.absolute(wheel_Ry_l - wheel_Ry0_l)\n",
    "l_lx_distance = np.absolute(wheel_Lx_l - wheel_Lx0_l)\n",
    "l_ly_distance = np.absolute(wheel_Ly_l - wheel_Ly0_l)\n",
    "\n",
    "# Mean of distance travelled by wheels\n",
    "s_rx_distance_mean = np.round(s_rx_distance.mean(), decimals=1)\n",
    "s_ry_distance_mean = np.round(s_ry_distance.mean(), decimals=1)\n",
    "s_lx_distance_mean = np.round(s_lx_distance.mean(), decimals=1)\n",
    "s_ly_distance_mean = np.round(s_ly_distance.mean(), decimals=1)\n",
    "\n",
    "r_rx_distance_mean = np.round(r_rx_distance.mean(), decimals=1)\n",
    "r_ry_distance_mean = np.round(r_ry_distance.mean(), decimals=1)\n",
    "r_lx_distance_mean = np.round(r_lx_distance.mean(), decimals=1)\n",
    "r_ly_distance_mean = np.round(r_ly_distance.mean(), decimals=1)\n",
    "\n",
    "l_rx_distance_mean = np.round(l_rx_distance.mean(), decimals=1)\n",
    "l_ry_distance_mean = np.round(l_ry_distance.mean(), decimals=1)\n",
    "l_lx_distance_mean = np.round(l_lx_distance.mean(), decimals=1)\n",
    "l_ly_distance_mean = np.round(l_ly_distance.mean(), decimals=1)"
   ]
  },
  {
   "cell_type": "code",
   "execution_count": null,
   "metadata": {},
   "outputs": [],
   "source": [
    "# Radius of circle on which robot travels for left/right turn\n",
    "radius = 22.8 # in cm\n",
    "\n",
    "sx_mean =(s_rx_distance_mean + s_lx_distance_mean) / 2\n",
    "rx_mean =(r_rx_distance_mean + r_lx_distance_mean) / 2\n",
    "lx_mean =(l_rx_distance_mean + l_lx_distance_mean) / 2\n",
    "\n",
    "sy_mean =(s_ry_distance_mean + s_ly_distance_mean) / 2\n",
    "ry_mean =(r_ry_distance_mean + r_ly_distance_mean) / 2\n",
    "ly_mean =(l_ry_distance_mean + l_ly_distance_mean) / 2"
   ]
  },
  {
   "cell_type": "code",
   "execution_count": null,
   "metadata": {},
   "outputs": [],
   "source": [
    "# Mean distance travelled by robot\n",
    "s_mean = np.sqrt(sx_mean**2 + sy_mean**2)\n",
    "r_mean = np.sqrt(rx_mean**2 + ry_mean**2)\n",
    "l_mean = np.sqrt(lx_mean**2 + ly_mean**2)"
   ]
  },
  {
   "cell_type": "markdown",
   "metadata": {},
   "source": [
    "### Final pose calculations (x, y, theta)"
   ]
  },
  {
   "cell_type": "code",
   "execution_count": null,
   "metadata": {},
   "outputs": [],
   "source": [
    "# averaged final pose (x,y)\n",
    "straight_motion_x = (wheel_Rx_s + wheel_Lx_s) / 2\n",
    "straight_motion_y = (wheel_Ry_s + wheel_Ly_s) / 2\n",
    "\n",
    "right_motion_x = (wheel_Rx_r + wheel_Lx_r) / 2\n",
    "right_motion_y = (wheel_Ry_r + wheel_Ly_r) / 2\n",
    "\n",
    "left_motion_x = (wheel_Rx_l + wheel_Lx_l) / 2\n",
    "left_motion_y = (wheel_Ry_l + wheel_Ly_l) / 2"
   ]
  },
  {
   "cell_type": "code",
   "execution_count": null,
   "metadata": {},
   "outputs": [],
   "source": [
    "# mean averaged final pose (x,y)\n",
    "print('Straight motion')\n",
    "print('mean averaged final pose (x, y): ',\n",
    "      np.round(np.mean(straight_motion_x), decimals=1),\n",
    "      np.round(np.mean(straight_motion_y), decimals=1))\n",
    "print('Right-turn motion')\n",
    "print('mean averaged final pose (x, y): ',\n",
    "      np.round(np.mean(right_motion_x), decimals=1),\n",
    "      np.round(np.mean(right_motion_y), decimals=1))\n",
    "print('Left-turn motion')\n",
    "print('mean averaged final pose (x, y): ',\n",
    "      np.round(np.mean(left_motion_x), decimals=1),\n",
    "      np.round(np.mean(left_motion_y), decimals=1))"
   ]
  },
  {
   "cell_type": "markdown",
   "metadata": {},
   "source": [
    "#### Observed angular pose calculations"
   ]
  },
  {
   "cell_type": "code",
   "execution_count": null,
   "metadata": {},
   "outputs": [],
   "source": [
    "#angular position\n",
    "s_motion_position_x = (s_rx_distance + s_lx_distance)/2\n",
    "s_motion_position_y = (s_ry_distance + s_ly_distance)/2\n",
    "\n",
    "l_motion_position_x = (l_rx_distance + l_lx_distance)/2\n",
    "l_motion_position_y = (l_ry_distance + l_ly_distance)/2\n",
    "\n",
    "r_motion_position_x = (r_rx_distance + r_lx_distance)/2\n",
    "r_motion_position_y = (r_ry_distance + r_ly_distance)/2\n",
    "\n",
    "#straight \n",
    "s_theta_obs = np.arctan((wheel_Rx_s - wheel_Lx_s) / (wheel_Ry_s - wheel_Ly_s))\n",
    "l_theta_obs = np.arccos((2*radius**2 - (l_motion_position_x**2 + l_motion_position_y**2)) / (2 * radius**2))\n",
    "r_theta_obs = np.arccos((2*radius**2 - (r_motion_position_x**2 + r_motion_position_y**2)) / (2 * radius**2))\n",
    "\n",
    "s_theta_obs_deg = np.round(np.rad2deg(s_theta_obs), decimals=1)\n",
    "r_theta_obs_deg = np.round(np.rad2deg(l_theta_obs), decimals=1)\n",
    "l_theta_obs_deg = np.round(np.rad2deg(r_theta_obs), decimals=1)"
   ]
  },
  {
   "cell_type": "code",
   "execution_count": null,
   "metadata": {},
   "outputs": [],
   "source": []
  },
  {
   "cell_type": "code",
   "execution_count": null,
   "metadata": {},
   "outputs": [],
   "source": [
    "# Mean final pose theta (right and left turn)\n",
    "\n",
    "# Cosine rule\n",
    "r_theta = np.arccos((2*radius**2 - r_mean**2) / (2 * radius**2))\n",
    "l_theta = np.arccos((2*radius**2 - l_mean**2) / (2 * radius**2))\n",
    "\n",
    "r_theta_deg = np.round(np.rad2deg(r_theta), decimals=1)\n",
    "l_theta_deg = np.round(np.rad2deg(l_theta), decimals=1)\n",
    "\n",
    "# Only absolute angle between initial pose and mean final pose\n",
    "print(\"Right turn motion - Final angular pose\", r_theta_deg)\n",
    "print(\"Left turn motion - Final angular pose\", l_theta_deg)\n",
    "\n",
    "# Angular deviation in straight motion\n",
    "s_theta = np.arctan2(sy_mean, sx_mean)\n",
    "s_theta_deg = np.round(np.rad2deg(s_theta), decimals=1)\n",
    "print(\"Straight motion - angular deviation\", s_theta_deg)"
   ]
  },
  {
   "cell_type": "markdown",
   "metadata": {},
   "source": [
    "### Mean poses of robot"
   ]
  },
  {
   "cell_type": "code",
   "execution_count": null,
   "metadata": {},
   "outputs": [],
   "source": [
    "# mean averaged final pose (x, y):\n",
    "# Straight motion\n",
    "sx_mean = 40.4\n",
    "sy_mean = 27.9\n",
    "\n",
    "# Right-turn motion\n",
    "rx_mean = 17.8\n",
    "ry_mean = 2.8\n",
    "\n",
    "# Left-turn motion\n",
    "lx_mean = 17.8\n",
    "ly_mean = 52.9"
   ]
  },
  {
   "cell_type": "code",
   "execution_count": null,
   "metadata": {},
   "outputs": [],
   "source": [
    "# Initial pose (x, y):\n",
    "# Straight motion\n",
    "sx0_mean = np.round((wheel_Rx0_s + wheel_Lx0_s) / 2, decimals=1)\n",
    "sy0_mean = np.round((wheel_Ry0_s + wheel_Ly0_s) / 2, decimals=1)\n",
    "\n",
    "# Right-turn motion\n",
    "rx0_mean = np.round((wheel_Rx0_r + wheel_Lx0_r) / 2, decimals=1)\n",
    "ry0_mean = np.round((wheel_Ry0_r + wheel_Ly0_r) / 2, decimals=1)\n",
    "\n",
    "# Left-turn motion\n",
    "lx0_mean = np.round((wheel_Rx0_l + wheel_Lx0_l) / 2, decimals=1)\n",
    "ly0_mean = np.round((wheel_Ry0_l + wheel_Ly0_l) / 2, decimals=1)\n",
    "\n",
    "# Must be equal since initiated at same position\n",
    "assert(sx0_mean == rx0_mean == lx0_mean)\n",
    "assert(sy0_mean == ry0_mean == ly0_mean)"
   ]
  },
  {
   "cell_type": "code",
   "execution_count": null,
   "metadata": {},
   "outputs": [],
   "source": [
    "# Mean final pose theta (right and left turn)\n",
    "rx_th = 17.5; ry_th = 0.5; \n",
    "lx_th = 17.5; ly_th = 54.8;\n",
    "# Mean displacement\n",
    "r_disp = np.sqrt((rx_th - rx0_mean)**2 + (ry_th - ry0_mean)**2)\n",
    "l_disp = np.sqrt((lx_th - lx0_mean)**2 + (ly_th - ly0_mean)**2)"
   ]
  },
  {
   "cell_type": "markdown",
   "metadata": {},
   "source": [
    "#### Analytical angular pose calculations"
   ]
  },
  {
   "cell_type": "code",
   "execution_count": null,
   "metadata": {},
   "outputs": [],
   "source": [
    "# Cosine rule\n",
    "r_th_theta = np.arccos((2*radius**2 - r_disp**2) / (2 * radius**2))\n",
    "l_th_theta = np.arccos((2*radius**2 - l_disp**2) / (2 * radius**2))\n",
    "\n",
    "r_th_theta_deg = np.round(np.rad2deg(r_th_theta), decimals=1)\n",
    "l_th_theta_deg = np.round(np.rad2deg(l_th_theta), decimals=1)\n",
    "\n",
    "# Only absolute angle between initial pose and mean final pose\n",
    "print(\"Right turn motion - Final angular pose\", r_th_theta_deg)\n",
    "print(\"Left turn motion - Final angular pose\", l_th_theta_deg)"
   ]
  },
  {
   "cell_type": "markdown",
   "metadata": {},
   "source": [
    "## Statistical Evaluation"
   ]
  },
  {
   "cell_type": "markdown",
   "metadata": {},
   "source": [
    "### Mean deviation calculations"
   ]
  },
  {
   "cell_type": "code",
   "execution_count": null,
   "metadata": {},
   "outputs": [],
   "source": [
    "display('Mean distance travelled')\n",
    "\n",
    "print('Left turn motion:')\n",
    "print('right wheel (x, y):', l_rx_distance_mean, l_ry_distance_mean)\n",
    "print('left wheel (x, y):', l_lx_distance_mean, l_ly_distance_mean)\n",
    "\n",
    "print('\\nRight turn motion:')\n",
    "print('right wheel (x, y):', r_rx_distance_mean, r_ry_distance_mean)\n",
    "print('left wheel (x, y):', r_lx_distance_mean, r_ly_distance_mean)\n",
    "\n",
    "print('\\nStraight motion:')\n",
    "print('right wheel (x, y):', s_rx_distance_mean, s_ry_distance_mean)\n",
    "print('left wheel (x, y):', s_lx_distance_mean, s_ly_distance_mean)"
   ]
  },
  {
   "cell_type": "code",
   "execution_count": null,
   "metadata": {},
   "outputs": [],
   "source": [
    "display('Mean final position')\n",
    "\n",
    "print('Left turn motion:')\n",
    "print('right wheel (x, y):',\n",
    "      np.round(np.mean(wheel_Rx_l), decimals=1),\n",
    "      np.round(np.mean(wheel_Ry_l), decimals=1))\n",
    "print('left wheel (x, y):',\n",
    "      np.round(np.mean(wheel_Lx_l), decimals=1),\n",
    "      np.round(np.mean(wheel_Ly_l), decimals=1))\n",
    "\n",
    "print('\\nRight turn motion:')\n",
    "print('right wheel (x, y):',\n",
    "      np.round(np.mean(wheel_Rx_r), decimals=1),\n",
    "      np.round(np.mean(wheel_Ry_r), decimals=1))\n",
    "print('left wheel (x, y):',\n",
    "      np.round(np.mean(wheel_Lx_r), decimals=1),\n",
    "      np.round(np.mean(wheel_Ly_r), decimals=1))\n",
    "\n",
    "print('\\nStraight motion:')\n",
    "print('right wheel (x, y):',\n",
    "      np.round(np.mean(wheel_Rx_s), decimals=1),\n",
    "      np.round(np.mean(wheel_Ry_s), decimals=1))\n",
    "print('left wheel (x, y):',\n",
    "      np.round(np.mean(wheel_Lx_s), decimals=1),\n",
    "      np.round(np.mean(wheel_Ly_s), decimals=1))"
   ]
  },
  {
   "cell_type": "code",
   "execution_count": null,
   "metadata": {},
   "outputs": [],
   "source": [
    "# Left-turn\n",
    "l_rx_dm = np.round(abs(l_rx_distance_mean - l_rx0_distance), decimals=1)\n",
    "l_ry_dm = np.round(abs(l_ry_distance_mean - l_ry0_distance), decimals=1)\n",
    "l_lx_dm = np.round(abs(l_lx_distance_mean - l_lx0_distance), decimals=1)\n",
    "l_ly_dm = np.round(abs(l_ly_distance_mean - l_ly0_distance), decimals=1)\n",
    "\n",
    "# Right turn\n",
    "r_rx_dm = np.round(abs(r_rx_distance_mean - r_rx0_distance), decimals=1)\n",
    "r_ry_dm = np.round(abs(r_ry_distance_mean - r_ry0_distance), decimals=1)\n",
    "r_lx_dm = np.round(abs(r_lx_distance_mean - r_lx0_distance), decimals=1)\n",
    "r_ly_dm = np.round(abs(r_ly_distance_mean - r_ly0_distance), decimals=1)\n",
    "\n",
    "# straight\n",
    "s_rx_dm = np.round(abs(s_rx_distance_mean - s_rx0_distance), decimals=1)\n",
    "s_ry_dm = np.round(abs(s_ry_distance_mean - s_ry0_distance), decimals=1)\n",
    "s_lx_dm = np.round(abs(s_lx_distance_mean - s_lx0_distance), decimals=1)\n",
    "s_ly_dm = np.round(abs(s_ly_distance_mean - s_ly0_distance), decimals=1)"
   ]
  },
  {
   "cell_type": "code",
   "execution_count": null,
   "metadata": {},
   "outputs": [],
   "source": [
    "display('Mean deviation in distance travelled')\n",
    "\n",
    "print('Left turn motion:')\n",
    "print('right wheel (x, y):', l_rx_dm, l_ry_dm)\n",
    "print('left wheel (x, y):',\n",
    "      np.round(abs(l_lx_distance_mean - l_lx0_distance), decimals=1),\n",
    "      np.round(abs(l_ly_distance_mean - l_ly0_distance), decimals=1))\n",
    "\n",
    "print('\\nRight turn motion:')\n",
    "print('right wheel (x, y):',\n",
    "      np.round(abs(r_rx_distance_mean - r_rx0_distance), decimals=1),\n",
    "      np.round(abs(r_ry_distance_mean - r_ry0_distance), decimals=1))\n",
    "print('left wheel (x, y):',\n",
    "      np.round(abs(r_lx_distance_mean - r_lx0_distance), decimals=1),\n",
    "      np.round(abs(r_ly_distance_mean - r_ly0_distance), decimals=1))\n",
    "\n",
    "print('\\nStraight motion:')\n",
    "print('right wheel (x, y):',\n",
    "      np.round(abs(s_rx_distance_mean - s_rx0_distance), decimals=1),\n",
    "      np.round(abs(s_ry_distance_mean - s_ry0_distance), decimals=1))\n",
    "print('left wheel (x, y):',\n",
    "      np.round(abs(s_lx_distance_mean - s_lx0_distance), decimals=1),\n",
    "      np.round(abs(s_ly_distance_mean - s_ly0_distance), decimals=1))"
   ]
  },
  {
   "cell_type": "markdown",
   "metadata": {},
   "source": [
    "#### Mean angular deviation in robot final pose"
   ]
  },
  {
   "cell_type": "code",
   "execution_count": null,
   "metadata": {},
   "outputs": [],
   "source": [
    "display('Mean angular deviation in robot final pose')\n",
    "\n",
    "print('Left turn motion:')\n",
    "print('right wheel (degrees):',\n",
    "      np.round(abs(np.degrees(atan2(np.round(abs(l_ry_distance_mean), decimals=1),\n",
    "                           np.round(abs(l_rx_distance_mean), decimals=1))\n",
    "                     - atan2(abs(l_ry0_distance), abs(l_rx0_distance)))), decimals=2))\n",
    "print('left wheel (degrees):',\n",
    "      np.round(abs(np.degrees(atan2(np.round(abs(l_ly_distance_mean), decimals=1),\n",
    "                           np.round(abs(l_lx_distance_mean), decimals=1))\n",
    "                     - atan2(abs(l_ly0_distance), abs(l_lx0_distance)))), decimals=1))\n",
    "\n",
    "print('\\nRight turn motion:')\n",
    "print('right wheel (degrees):',\n",
    "      np.round(abs(np.degrees(atan2(np.round(abs(r_ry_distance_mean), decimals=1),\n",
    "                           np.round(abs(r_rx_distance_mean), decimals=1))\n",
    "                     - atan2(abs(r_ry0_distance), abs(r_rx0_distance)))), decimals=1))\n",
    "print('left wheel (degrees):',\n",
    "      np.round(abs(np.degrees(atan2(np.round(abs(r_ly_distance_mean), decimals=1),\n",
    "                           np.round(abs(r_lx_distance_mean), decimals=1))\n",
    "                     - atan2(abs(r_ly0_distance), abs(r_lx0_distance)))), decimals=1))\n",
    "\n",
    "print('\\nStraight motion:')\n",
    "print('right wheel (degrees):',\n",
    "      np.round(abs(np.degrees(atan2(np.round(abs(s_ry_distance_mean), decimals=1),\n",
    "                           np.round(abs(s_rx_distance_mean), decimals=1))\n",
    "                     - atan2(abs(s_ry0_distance), abs(s_rx0_distance)))), decimals=1))\n",
    "print('left wheel (degrees):',\n",
    "      np.round(abs(np.degrees(atan2(s_ly_distance_mean, s_lx_distance_mean)\n",
    "                     - atan2(abs(s_ly0_distance), abs(s_lx0_distance)))), decimals=1))"
   ]
  },
  {
   "cell_type": "markdown",
   "metadata": {},
   "source": [
    "### Standard deviation calculations"
   ]
  },
  {
   "cell_type": "code",
   "execution_count": null,
   "metadata": {},
   "outputs": [],
   "source": [
    "display('Standard Deviation in final pose of robot')\n",
    "\n",
    "print('Left turn motion:')\n",
    "print('right wheel (x, y):',\n",
    "      np.round(np.std(wheel_Rx_l), decimals=1),\n",
    "      np.round(np.std(wheel_Ry_l), decimals=1))\n",
    "print('left wheel (x, y):',\n",
    "      np.round(np.std(wheel_Lx_l), decimals=1),\n",
    "      np.round(np.std(wheel_Ly_l), decimals=1))\n",
    "\n",
    "print('\\nRight turn motion:')\n",
    "print('right wheel (x, y):',\n",
    "      np.round(np.std(wheel_Rx_r), decimals=1),\n",
    "      np.round(np.std(wheel_Ry_r), decimals=1))\n",
    "print('left wheel (x, y):',\n",
    "      np.round(np.std(wheel_Lx_r), decimals=1),\n",
    "      np.round(np.std(wheel_Ly_r), decimals=1))\n",
    "\n",
    "print('\\nStraight motion:')\n",
    "print('right wheel (x, y):',\n",
    "      np.round(np.std(wheel_Rx_s), decimals=1),\n",
    "      np.round(np.std(wheel_Ry_s), decimals=1))\n",
    "print('left wheel (x, y):',\n",
    "      np.round(np.std(wheel_Lx_s), decimals=1),\n",
    "      np.round(np.std(wheel_Ly_s), decimals=1))"
   ]
  },
  {
   "cell_type": "markdown",
   "metadata": {},
   "source": [
    "## Data Visualization"
   ]
  },
  {
   "cell_type": "markdown",
   "metadata": {},
   "source": [
    "### Distribution of poses"
   ]
  },
  {
   "cell_type": "code",
   "execution_count": null,
   "metadata": {},
   "outputs": [],
   "source": [
    "def plot_data(rx, ry, lx, ly, rx0, ry0, lx0, ly0, whichData, save_fig=True):\n",
    "    rx_mean = rx.mean()\n",
    "    ry_mean = ry.mean()\n",
    "    lx_mean = lx.mean()\n",
    "    ly_mean = ly.mean()\n",
    "\n",
    "    # fig, ax = plt.subplots()\n",
    "    fig = plt.figure(figsize=(10, 10))\n",
    "    ax = plt.gca()\n",
    "    Rwheel = ax.scatter(rx, ry, c='g', label=('right wheel'.format(whichData)))\n",
    "    Lwheel = ax.scatter(lx, ly, c='b', label=('left wheel'.format(whichData)))\n",
    "    Rwheel_mean = ax.scatter(rx_mean, ry_mean, c='r', marker='x',\\\n",
    "                                      label=('right wheel mean value'.format(whichData)))\n",
    "    Lwheel_mean = ax.scatter(lx_mean, ly_mean, c='r', marker='x',\\\n",
    "                                      label=('left wheel mean value'.format(whichData)))\n",
    "    Rwheel_init = ax.scatter(rx0, ry0, c='g', marker='+',\n",
    "                             label=('right wheel initial'.format(whichData)))\n",
    "    Lwheel_init = ax.scatter(lx0, ly0, c='b', marker='+',\\\n",
    "                             label=('left wheel initial'.format(whichData)))\n",
    "\n",
    "    # Setup of zoom-in figure and legend position\n",
    "    if whichData == 'Straight':\n",
    "        ax.legend(loc=1)\n",
    "        axin_r = zoomed_inset_axes(ax, 8, loc=8)\n",
    "        mark_inset(ax, axin_r, loc1=4, loc2=2, fc=\"none\", ec=\"0.5\")\n",
    "        axin_l = zoomed_inset_axes(ax, 8, loc=9)\n",
    "        mark_inset(ax, axin_l, loc1=1, loc2=3, fc=\"none\", ec=\"0.5\")\n",
    "    elif whichData == 'Right-turn':\n",
    "        ax.legend(loc=2)\n",
    "        axin_r = zoomed_inset_axes(ax, 8, loc=1)\n",
    "        mark_inset(ax, axin_r, loc1=4, loc2=2, fc=\"none\", ec=\"0.5\")\n",
    "        axin_l = zoomed_inset_axes(ax, 8, loc=4)\n",
    "        mark_inset(ax, axin_l, loc1=2, loc2=3, fc=\"none\", ec=\"0.5\")\n",
    "    elif whichData == 'Left-turn':\n",
    "        ax.legend(loc=3)\n",
    "        axin_r = zoomed_inset_axes(ax, 8, loc=1)\n",
    "        mark_inset(ax, axin_r, loc1=2, loc2=3, fc=\"none\", ec=\"0.5\")\n",
    "        axin_l = zoomed_inset_axes(ax, 8, loc=4)\n",
    "        mark_inset(ax, axin_l, loc1=1, loc2=3, fc=\"none\", ec=\"0.5\")\n",
    "    \n",
    "    # Plot into zoom-in figures\n",
    "    axin_r.scatter(rx, ry, c='g', label=('right wheel'.format(whichData)))\n",
    "    axin_r.scatter(rx_mean, ry_mean, c='r', marker='x',\n",
    "                   label=('right wheel mean value'.format(whichData)))\n",
    "    sb.kdeplot(rx, ry, ax=axin_r)\n",
    "    axin_r.set_xlim(rx_mean-1.5, rx_mean+1.5)\n",
    "    axin_r.set_ylim(ry_mean-1.5, ry_mean+1.5)\n",
    "\n",
    "    axin_l.scatter(lx, ly, c='b', label=('left wheel'.format(whichData)))\n",
    "    axin_l.scatter(lx_mean, ly_mean, c='r', marker='x',\n",
    "                   label=('left wheel mean value'.format(whichData)))\n",
    "    sb.kdeplot(lx, ly, ax=axin_l)\n",
    "    axin_l.set_xlim(lx_mean-1.5, lx_mean+1.5)\n",
    "    axin_l.set_ylim(ly_mean-1.5, ly_mean+1.5)\n",
    "    \n",
    "    # Labels\n",
    "    title = whichData+' motion of Lego robot'\n",
    "    ax.set_title(title)\n",
    "    ax.set_xlabel('distance x (cm)')\n",
    "    ax.set_ylabel('distance y (cm)')\n",
    "    \n",
    "    # Figure aspects \n",
    "    ax.set_aspect('equal')\n",
    "    ax.set_xlim(-10, 60)\n",
    "    ax.set_ylim(-10, 60)\n",
    "    ax.grid(color='b', linestyle='-', linewidth=.1)\n",
    "    \n",
    "    if save_fig:\n",
    "        fig.savefig('images/'+whichData)\n",
    "\n",
    "    plt.show()\n",
    "    plt.close()"
   ]
  },
  {
   "cell_type": "code",
   "execution_count": null,
   "metadata": {},
   "outputs": [],
   "source": [
    "plot_data(wheel_Rx_s, wheel_Ry_s, wheel_Lx_s, wheel_Ly_s,\n",
    "          wheel_Rx0_s, wheel_Ry0_s, wheel_Lx0_s, wheel_Ly0_s,\n",
    "          whichData='Straight')"
   ]
  },
  {
   "cell_type": "code",
   "execution_count": null,
   "metadata": {},
   "outputs": [],
   "source": [
    "plot_data(wheel_Rx_r, wheel_Ry_r, wheel_Lx_r, wheel_Ly_r,\n",
    "          wheel_Rx0_r, wheel_Ry0_r, wheel_Lx0_r, wheel_Ly0_r,\n",
    "          whichData='Right-turn')"
   ]
  },
  {
   "cell_type": "code",
   "execution_count": null,
   "metadata": {},
   "outputs": [],
   "source": [
    "plot_data(wheel_Rx_l, wheel_Ry_l, wheel_Lx_l, wheel_Ly_l,\n",
    "          wheel_Rx0_l, wheel_Ry0_l, wheel_Lx0_l, wheel_Ly0_l,\n",
    "          whichData='Left-turn')"
   ]
  },
  {
   "cell_type": "code",
   "execution_count": null,
   "metadata": {},
   "outputs": [],
   "source": []
  },
  {
   "cell_type": "code",
   "execution_count": null,
   "metadata": {},
   "outputs": [],
   "source": []
  },
  {
   "cell_type": "code",
   "execution_count": null,
   "metadata": {},
   "outputs": [],
   "source": [
    "# fig, ax = plt.subplots()\n",
    "fig = plt.figure(figsize=(10, 10))\n",
    "ax = plt.gca()\n",
    "\n",
    "init_mean = ax.scatter(sx0_mean, sy0_mean, c='k', marker='x',\\\n",
    "                       label='Initial pose')\n",
    "straight_mean = ax.scatter(sx_mean, sy_mean, c='g', marker='x',\\\n",
    "                       label='Straight motion final pose')\n",
    "right_mean = ax.scatter(rx_mean, ry_mean, c='b', marker='x',\\\n",
    "                       label='Right-turn motion final pose')\n",
    "left_mean = ax.scatter(lx_mean, ly_mean, c='r', marker='x',\\\n",
    "                       label='Left-turn motion final pose')\n",
    "\n",
    "# Annotation\n",
    "i_label = '  ('+ str(sx0_mean) + ', ' + str(sy0_mean) + ', 0' +')'\n",
    "s_label = '  ('+ str(sx_mean) + ', ' + str(sy_mean) + ', ' + str(s_theta_deg) +')'\n",
    "r_label = '  ('+ str(rx_mean) + ', ' + str(ry_mean) + ', ' + str(r_theta_deg) +')'\n",
    "l_label = '  ('+ str(lx_mean) + ', ' + str(ly_mean) + ', ' + str(l_theta_deg) +')'\n",
    "plt.annotate(i_label, xy = (sx0_mean, sy0_mean))\n",
    "plt.annotate(s_label, xy = (sx_mean, sy_mean))\n",
    "plt.annotate(r_label, xy = (rx_mean, ry_mean))\n",
    "plt.annotate(l_label, xy = (lx_mean, ly_mean))\n",
    "\n",
    "\n",
    "# Legends\n",
    "ax.legend(loc=1)\n",
    "\n",
    "# Labels\n",
    "title = 'Mean poses of Lego robot (x, y, theta)'\n",
    "ax.set_title(title)\n",
    "ax.set_xlabel('distance x (cm)')\n",
    "ax.set_ylabel('distance y (cm)')\n",
    "\n",
    "# Figure aspects \n",
    "ax.set_aspect('equal')\n",
    "ax.set_xlim(-10, 60)\n",
    "ax.set_ylim(-10, 60)\n",
    "ax.grid(color='b', linestyle='-', linewidth=.1)\n",
    "    \n",
    "fig.savefig('images/mean_poses')\n",
    "\n",
    "plt.show()\n",
    "plt.close()"
   ]
  },
  {
   "cell_type": "markdown",
   "metadata": {},
   "source": [
    "## Gaussian fits"
   ]
  },
  {
   "cell_type": "markdown",
   "metadata": {},
   "source": [
    "### Gaussian fit for 1-dimensional data"
   ]
  },
  {
   "cell_type": "code",
   "execution_count": null,
   "metadata": {},
   "outputs": [],
   "source": [
    "from sklearn.neighbors import KernelDensity"
   ]
  },
  {
   "cell_type": "code",
   "execution_count": null,
   "metadata": {},
   "outputs": [],
   "source": [
    "motions = ['Straight ', 'Right-turn ', 'Left-turn ']"
   ]
  },
  {
   "cell_type": "code",
   "execution_count": null,
   "metadata": {},
   "outputs": [],
   "source": [
    "wheels = ['left-wheel ', 'right-wheel ']"
   ]
  },
  {
   "cell_type": "code",
   "execution_count": null,
   "metadata": {},
   "outputs": [],
   "source": [
    "def get_distribution(data, num_samples=500):\n",
    "    x = np.linspace(-10, 100, num_samples)\n",
    "    samples = data[np.newaxis].T\n",
    "\n",
    "    kernel = KernelDensity(bandwidth=1.5).fit(samples)\n",
    "    log_dens = kernel.score_samples(x[:, np.newaxis])\n",
    "\n",
    "    return x, np.exp(log_dens)"
   ]
  },
  {
   "cell_type": "code",
   "execution_count": null,
   "metadata": {},
   "outputs": [],
   "source": [
    "f, axes = plt.subplots(3, 4, figsize=(20, 12), sharex=True)\n",
    "\n",
    "# Straight motion\n",
    "x, y = get_distribution(wheel_Lx_s)\n",
    "axes[0,0].plot(x, y, color='black')\n",
    "axes[0,0].set_xlabel(wheels[0]+'X in cm')\n",
    "axes[0,0].set_ylabel('Probability')\n",
    "axes[0,0].set_title(motions[0] + 'motion')\n",
    "\n",
    "x, y = get_distribution(wheel_Ly_s)\n",
    "axes[0,1].plot(x, y, color='black')\n",
    "axes[0,1].set_xlabel(wheels[0]+'Y in cm')\n",
    "axes[0,1].set_ylabel('Probability')\n",
    "axes[0,1].set_title(motions[0] + 'motion')\n",
    "\n",
    "x, y = get_distribution(wheel_Rx_s)\n",
    "axes[0,2].plot(x, y, color='black')\n",
    "axes[0,2].set_xlabel(wheels[1]+'X in cm')\n",
    "axes[0,2].set_ylabel('Probability')\n",
    "axes[0,2].set_title(motions[0] + 'motion')\n",
    "\n",
    "x, y = get_distribution(wheel_Ry_s)\n",
    "axes[0,3].plot(x, y, color='black')\n",
    "axes[0,3].set_xlabel(wheels[1]+'Y in cm')\n",
    "axes[0,3].set_ylabel('Probability')\n",
    "axes[0,3].set_title(motions[0] + 'motion')\n",
    "\n",
    "# Right Turn motion\n",
    "x, y = get_distribution(wheel_Lx_r)\n",
    "axes[1,0].plot(x, y, color='black')\n",
    "axes[1,0].set_xlabel(wheels[0]+'X in cm')\n",
    "axes[1,0].set_ylabel('Probability')\n",
    "axes[1,0].set_title(motions[1] + 'motion')\n",
    "\n",
    "x, y = get_distribution(wheel_Ly_r)\n",
    "axes[1,1].plot(x, y, color='black')\n",
    "axes[1,1].set_xlabel(wheels[0]+'Y in cm')\n",
    "axes[1,1].set_ylabel('Probability')\n",
    "axes[1,1].set_title(motions[1] + 'motion')\n",
    "\n",
    "x, y = get_distribution(wheel_Rx_r)\n",
    "axes[1,2].plot(x, y, color='black')\n",
    "axes[1,2].set_xlabel(wheels[1]+'X in cm')\n",
    "axes[1,2].set_ylabel('Probability')\n",
    "axes[1,2].set_title(motions[1] + 'motion')\n",
    "\n",
    "x, y = get_distribution(wheel_Ry_r)\n",
    "axes[1,3].plot(x, y, color='black')\n",
    "axes[1,3].set_xlabel(wheels[1]+'Y in cm')\n",
    "axes[1,3].set_ylabel('Probability')\n",
    "axes[1,3].set_title(motions[1] + 'motion')\n",
    "\n",
    "# Left turn motion\n",
    "x, y = get_distribution(wheel_Lx_l)\n",
    "axes[2,0].plot(x, y, color='black')\n",
    "axes[2,0].set_xlabel(wheels[0]+'X in cm')\n",
    "axes[2,0].set_ylabel('Probability')\n",
    "axes[2,0].set_title(motions[2] + 'motion')\n",
    "\n",
    "x, y = get_distribution(wheel_Ly_l)\n",
    "axes[2,1].plot(x, y, color='black')\n",
    "axes[2,1].set_xlabel(wheels[0]+'Y in cm')\n",
    "axes[2,1].set_ylabel('Probability')\n",
    "axes[2,1].set_title(motions[2] + 'motion')\n",
    "\n",
    "x, y = get_distribution(wheel_Rx_l)\n",
    "axes[2,2].plot(x, y, color='black')\n",
    "axes[2,2].set_xlabel(wheels[1]+'X in cm')\n",
    "axes[2,2].set_ylabel('Probability')\n",
    "axes[2,2].set_title(motions[2] + 'motion')\n",
    "\n",
    "x, y = get_distribution(wheel_Ry_l)\n",
    "axes[2,3].plot(x, y, color='black')\n",
    "axes[2,3].set_xlabel(wheels[1]+'Y in cm')\n",
    "axes[2,3].set_ylabel('Probability')\n",
    "axes[2,3].set_title(motions[2] + 'motion')\n",
    "\n",
    "f.savefig('images/gaussian_fits')\n",
    "plt.tight_layout()\n",
    "plt.show()\n",
    "plt.close()"
   ]
  },
  {
   "cell_type": "code",
   "execution_count": null,
   "metadata": {},
   "outputs": [],
   "source": [
    "x, y = get_distribution(s_theta_obs_deg)\n",
    "\n",
    "plt.plot(x, y, color='black')\n",
    "plt.xlabel('Orientation of robot in degrees')\n",
    "plt.ylabel('Probability')\n",
    "plt.title(motions[0] + 'motion')\n",
    "plt.show()"
   ]
  },
  {
   "cell_type": "code",
   "execution_count": null,
   "metadata": {},
   "outputs": [],
   "source": [
    "\n",
    "x, y = get_distribution(l_theta_obs_deg)\n",
    "\n",
    "plt.plot(x, y, color='black')\n",
    "plt.xlabel('Orientation of robot in degrees')\n",
    "plt.ylabel('Probability')\n",
    "plt.title(motions[2] + 'motion')\n",
    "\n",
    "plt.show()"
   ]
  },
  {
   "cell_type": "code",
   "execution_count": null,
   "metadata": {},
   "outputs": [],
   "source": [
    "def get_distribution(data, num_samples=500):\n",
    "    x = np.linspace(-100, 10, num_samples)\n",
    "    samples = data[np.newaxis].T\n",
    "\n",
    "    kernel = KernelDensity(bandwidth=1.5).fit(samples)\n",
    "    log_dens = kernel.score_samples(x[:, np.newaxis])\n",
    "\n",
    "    return x, np.exp(log_dens)\n",
    "\n",
    "\n",
    "x, y = get_distribution(-r_theta_obs_deg)\n",
    "\n",
    "plt.plot(x, y, color='black')\n",
    "plt.xlabel('Orientation of robot in degrees')\n",
    "plt.ylabel('Probability')\n",
    "plt.title(motions[1] + 'motion')\n",
    "\n",
    "plt.show()"
   ]
  },
  {
   "cell_type": "markdown",
   "metadata": {},
   "source": [
    "### Final Pose distribution of data"
   ]
  },
  {
   "cell_type": "code",
   "execution_count": null,
   "metadata": {},
   "outputs": [],
   "source": [
    "right_motion_distribution = sb.jointplot(right_motion_x, right_motion_y, kind='kde')\n",
    "right_motion_distribution.set_axis_labels('x in cm', 'y in cm', fontsize=12)\n",
    "right_motion_distribution.savefig('images/right_motion_distribution')"
   ]
  },
  {
   "cell_type": "code",
   "execution_count": null,
   "metadata": {},
   "outputs": [],
   "source": [
    "left_motion_distribution = sb.jointplot(left_motion_x, left_motion_y, kind='kde');\n",
    "left_motion_distribution.set_axis_labels('x in cm', 'y in cm', fontsize=12)\n",
    "left_motion_distribution.savefig('images/left_motion_distribution')"
   ]
  },
  {
   "cell_type": "code",
   "execution_count": null,
   "metadata": {},
   "outputs": [],
   "source": [
    "straight_motion_distribution = sb.jointplot(straight_motion_x, straight_motion_y, kind='kde');\n",
    "straight_motion_distribution.set_axis_labels('x in cm', 'y in cm', fontsize=12)\n",
    "straight_motion_distribution.savefig('images/straight_motion_distribution')"
   ]
  },
  {
   "cell_type": "code",
   "execution_count": null,
   "metadata": {},
   "outputs": [],
   "source": [
    "# Angular position calculation\n",
    "\n"
   ]
  },
  {
   "cell_type": "code",
   "execution_count": null,
   "metadata": {},
   "outputs": [],
   "source": []
  }
 ],
 "metadata": {
  "kernelspec": {
   "display_name": "Python 3",
   "language": "python",
   "name": "python3"
  },
  "language_info": {
   "codemirror_mode": {
    "name": "ipython",
    "version": 3
   },
   "file_extension": ".py",
   "mimetype": "text/x-python",
   "name": "python",
   "nbconvert_exporter": "python",
   "pygments_lexer": "ipython3",
   "version": "3.6.4"
  },
  "latex_envs": {
   "LaTeX_envs_menu_present": true,
   "autoclose": false,
   "autocomplete": true,
   "bibliofile": "biblio.bib",
   "cite_by": "apalike",
   "current_citInitial": 1,
   "eqLabelWithNumbers": true,
   "eqNumInitial": 1,
   "hotkeys": {
    "equation": "Ctrl-E",
    "itemize": "Ctrl-I"
   },
   "labels_anchors": false,
   "latex_user_defs": false,
   "report_style_numbering": false,
   "user_envs_cfg": false
  }
 },
 "nbformat": 4,
 "nbformat_minor": 2
}
