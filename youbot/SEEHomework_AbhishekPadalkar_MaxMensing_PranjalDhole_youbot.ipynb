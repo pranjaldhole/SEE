{
 "cells": [
  {
   "cell_type": "markdown",
   "metadata": {},
   "source": [
    "# Hochschule Bonn-Rhein-Sieg\n",
    "### Scientific Experimentation and Evaluation, SS18\n",
    "### youBot placing experiment\n",
    "\n",
    "submitted by: `Abhishek Padalkar, Max Mensing, Pranjal Dhole`"
   ]
  },
  {
   "cell_type": "markdown",
   "metadata": {},
   "source": [
    "## Packages"
   ]
  },
  {
   "cell_type": "code",
   "execution_count": 1,
   "metadata": {},
   "outputs": [],
   "source": [
    "import numpy as np\n",
    "import pandas as pd\n",
    "import os"
   ]
  },
  {
   "cell_type": "markdown",
   "metadata": {},
   "source": [
    "## Importing data"
   ]
  },
  {
   "cell_type": "code",
   "execution_count": 28,
   "metadata": {},
   "outputs": [],
   "source": [
    "def get_filepath(filename: str):\n",
    "    PATH = os.getcwd()\n",
    "    return PATH+'/recordings/CSVs/'+filename+'.csv'"
   ]
  },
  {
   "cell_type": "code",
   "execution_count": 29,
   "metadata": {},
   "outputs": [],
   "source": [
    "load = ['small', 'medium', 'big']\n",
    "move = ['left', 'right', 'straight']"
   ]
  },
  {
   "cell_type": "code",
   "execution_count": 30,
   "metadata": {},
   "outputs": [
    {
     "name": "stdout",
     "output_type": "stream",
     "text": [
      "small_left\n",
      "small_right\n",
      "small_straight\n",
      "medium_left\n",
      "medium_right\n",
      "medium_straight\n",
      "big_left\n",
      "big_right\n",
      "big_straight\n"
     ]
    }
   ],
   "source": [
    "for i in load:\n",
    "    for j in move:\n",
    "        filename = i+'_'+j\n",
    "        print(filename)"
   ]
  },
  {
   "cell_type": "code",
   "execution_count": 31,
   "metadata": {},
   "outputs": [
    {
     "data": {
      "text/plain": [
       "array([[-109.2734, -101.337 ,   -2.0878],\n",
       "       [-106.4432,  -99.0096,   -2.1088],\n",
       "       [-106.7756,  -99.332 ,   -2.0976],\n",
       "       [-106.719 ,  -99.3026,   -2.093 ],\n",
       "       [-106.7042,  -99.2226,   -2.1174],\n",
       "       [-106.7024,  -99.2204,   -2.1146],\n",
       "       [-107.784 , -100.2024,   -2.1   ],\n",
       "       [-107.7904, -100.1474,   -2.1046],\n",
       "       [-106.3724,  -99.008 ,   -2.0904],\n",
       "       [-107.4476,  -99.872 ,   -2.1096],\n",
       "       [-107.41  ,  -99.89  ,   -2.1   ],\n",
       "       [-107.136 ,  -99.751 ,   -2.0788],\n",
       "       [-107.3676,  -99.854 ,   -2.0996],\n",
       "       [-106.4404,  -99.122 ,   -2.1096],\n",
       "       [-106.3926,  -99.0264,   -2.0904],\n",
       "       [-106.838 ,  -99.402 ,   -2.093 ],\n",
       "       [-106.0348,  -98.7308,   -2.1144],\n",
       "       [-106.6514,  -99.178 ,   -2.1172],\n",
       "       [-107.8994, -100.2984,   -2.1002],\n",
       "       [-106.35  ,  -98.99  ,   -2.09  ]])"
      ]
     },
     "metadata": {},
     "output_type": "display_data"
    }
   ],
   "source": [
    "big_left = np.loadtxt(get_filepath('big_left'))\n",
    "display(big_left)"
   ]
  },
  {
   "cell_type": "code",
   "execution_count": null,
   "metadata": {},
   "outputs": [],
   "source": []
  },
  {
   "cell_type": "code",
   "execution_count": null,
   "metadata": {},
   "outputs": [],
   "source": []
  },
  {
   "cell_type": "code",
   "execution_count": null,
   "metadata": {},
   "outputs": [],
   "source": []
  }
 ],
 "metadata": {
  "kernelspec": {
   "display_name": "Python 3",
   "language": "python",
   "name": "python3"
  },
  "language_info": {
   "codemirror_mode": {
    "name": "ipython",
    "version": 3
   },
   "file_extension": ".py",
   "mimetype": "text/x-python",
   "name": "python",
   "nbconvert_exporter": "python",
   "pygments_lexer": "ipython3",
   "version": "3.6.5"
  },
  "latex_envs": {
   "LaTeX_envs_menu_present": true,
   "autoclose": false,
   "autocomplete": true,
   "bibliofile": "biblio.bib",
   "cite_by": "apalike",
   "current_citInitial": 1,
   "eqLabelWithNumbers": true,
   "eqNumInitial": 1,
   "hotkeys": {
    "equation": "Ctrl-E",
    "itemize": "Ctrl-I"
   },
   "labels_anchors": false,
   "latex_user_defs": false,
   "report_style_numbering": false,
   "user_envs_cfg": false
  }
 },
 "nbformat": 4,
 "nbformat_minor": 2
}
