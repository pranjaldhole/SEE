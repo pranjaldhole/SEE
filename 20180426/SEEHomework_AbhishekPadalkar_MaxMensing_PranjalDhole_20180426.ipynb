{
 "cells": [
  {
   "cell_type": "markdown",
   "metadata": {},
   "source": [
    "# Hochschule Bonn-Rhein-Sieg\n",
    "### Scientific Experimentation and Evaluation, SS18\n",
    "### Assignment 2\n",
    "\n",
    "submitted by: `Abhishek Padalkar, Max Mensing, Pranjal Dhole`"
   ]
  },
  {
   "cell_type": "code",
   "execution_count": 1,
   "metadata": {
    "collapsed": true
   },
   "outputs": [],
   "source": [
    "import numpy as np\n",
    "import pandas\n",
    "import sys, os\n",
    "import matplotlib.pyplot as plt\n",
    "\n",
    "sys.path.append(os.getcwd())\n",
    "%matplotlib inline"
   ]
  },
  {
   "cell_type": "code",
   "execution_count": 2,
   "metadata": {},
   "outputs": [
    {
     "data": {
      "text/html": [
       "<div>\n",
       "<style>\n",
       "    .dataframe thead tr:only-child th {\n",
       "        text-align: right;\n",
       "    }\n",
       "\n",
       "    .dataframe thead th {\n",
       "        text-align: left;\n",
       "    }\n",
       "\n",
       "    .dataframe tbody tr th {\n",
       "        vertical-align: top;\n",
       "    }\n",
       "</style>\n",
       "<table border=\"1\" class=\"dataframe\">\n",
       "  <thead>\n",
       "    <tr>\n",
       "      <th></th>\n",
       "      <th>Straight Motion</th>\n",
       "      <th>Unnamed: 1_level_0</th>\n",
       "      <th>Unnamed: 2_level_0</th>\n",
       "      <th>Unnamed: 3_level_0</th>\n",
       "      <th>Right turn Motion</th>\n",
       "      <th>Unnamed: 5_level_0</th>\n",
       "      <th>Unnamed: 6_level_0</th>\n",
       "      <th>Unnamed: 7_level_0</th>\n",
       "      <th>Left turn Motion</th>\n",
       "      <th>Unnamed: 9_level_0</th>\n",
       "      <th>Unnamed: 10_level_0</th>\n",
       "      <th>Unnamed: 11_level_0</th>\n",
       "    </tr>\n",
       "    <tr>\n",
       "      <th></th>\n",
       "      <th>Right wheel</th>\n",
       "      <th>Unnamed: 1_level_1</th>\n",
       "      <th>Left Wheel</th>\n",
       "      <th>Unnamed: 3_level_1</th>\n",
       "      <th>Right wheel</th>\n",
       "      <th>Unnamed: 5_level_1</th>\n",
       "      <th>Left Wheel</th>\n",
       "      <th>Unnamed: 7_level_1</th>\n",
       "      <th>Right wheel</th>\n",
       "      <th>Unnamed: 9_level_1</th>\n",
       "      <th>Left Wheel</th>\n",
       "      <th>Unnamed: 11_level_1</th>\n",
       "    </tr>\n",
       "    <tr>\n",
       "      <th></th>\n",
       "      <th>x(cm)</th>\n",
       "      <th>y(cm)</th>\n",
       "      <th>x(cm)</th>\n",
       "      <th>y(cm)</th>\n",
       "      <th>x(cm)</th>\n",
       "      <th>y(cm)</th>\n",
       "      <th>x(cm)</th>\n",
       "      <th>y(cm)</th>\n",
       "      <th>x(cm)</th>\n",
       "      <th>y(cm)</th>\n",
       "      <th>x(cm)</th>\n",
       "      <th>y(cm)</th>\n",
       "    </tr>\n",
       "  </thead>\n",
       "  <tbody>\n",
       "    <tr>\n",
       "      <th>0</th>\n",
       "      <td>40.3</td>\n",
       "      <td>20.3</td>\n",
       "      <td>40.2</td>\n",
       "      <td>34.9</td>\n",
       "      <td>10.9</td>\n",
       "      <td>1.5</td>\n",
       "      <td>25.1</td>\n",
       "      <td>4.2</td>\n",
       "      <td>25.0</td>\n",
       "      <td>51.5</td>\n",
       "      <td>10.8</td>\n",
       "      <td>54.3</td>\n",
       "    </tr>\n",
       "    <tr>\n",
       "      <th>1</th>\n",
       "      <td>40.3</td>\n",
       "      <td>20.3</td>\n",
       "      <td>40.3</td>\n",
       "      <td>34.8</td>\n",
       "      <td>10.3</td>\n",
       "      <td>1.2</td>\n",
       "      <td>24.5</td>\n",
       "      <td>3.5</td>\n",
       "      <td>25.0</td>\n",
       "      <td>51.3</td>\n",
       "      <td>11.2</td>\n",
       "      <td>54.1</td>\n",
       "    </tr>\n",
       "    <tr>\n",
       "      <th>2</th>\n",
       "      <td>40.2</td>\n",
       "      <td>20.9</td>\n",
       "      <td>40.0</td>\n",
       "      <td>35.3</td>\n",
       "      <td>10.4</td>\n",
       "      <td>1.3</td>\n",
       "      <td>24.6</td>\n",
       "      <td>4.0</td>\n",
       "      <td>25.1</td>\n",
       "      <td>51.4</td>\n",
       "      <td>10.9</td>\n",
       "      <td>54.0</td>\n",
       "    </tr>\n",
       "    <tr>\n",
       "      <th>3</th>\n",
       "      <td>40.2</td>\n",
       "      <td>20.5</td>\n",
       "      <td>40.0</td>\n",
       "      <td>35.0</td>\n",
       "      <td>10.9</td>\n",
       "      <td>1.6</td>\n",
       "      <td>25.1</td>\n",
       "      <td>4.3</td>\n",
       "      <td>25.0</td>\n",
       "      <td>51.6</td>\n",
       "      <td>10.5</td>\n",
       "      <td>54.9</td>\n",
       "    </tr>\n",
       "    <tr>\n",
       "      <th>4</th>\n",
       "      <td>40.5</td>\n",
       "      <td>20.1</td>\n",
       "      <td>40.4</td>\n",
       "      <td>34.6</td>\n",
       "      <td>10.4</td>\n",
       "      <td>1.4</td>\n",
       "      <td>24.2</td>\n",
       "      <td>4.0</td>\n",
       "      <td>25.1</td>\n",
       "      <td>51.4</td>\n",
       "      <td>10.9</td>\n",
       "      <td>54.0</td>\n",
       "    </tr>\n",
       "    <tr>\n",
       "      <th>5</th>\n",
       "      <td>40.5</td>\n",
       "      <td>20.0</td>\n",
       "      <td>40.4</td>\n",
       "      <td>34.5</td>\n",
       "      <td>10.0</td>\n",
       "      <td>0.9</td>\n",
       "      <td>24.4</td>\n",
       "      <td>3.2</td>\n",
       "      <td>25.2</td>\n",
       "      <td>51.1</td>\n",
       "      <td>10.5</td>\n",
       "      <td>54.9</td>\n",
       "    </tr>\n",
       "    <tr>\n",
       "      <th>6</th>\n",
       "      <td>40.6</td>\n",
       "      <td>20.3</td>\n",
       "      <td>40.8</td>\n",
       "      <td>34.8</td>\n",
       "      <td>11.0</td>\n",
       "      <td>1.6</td>\n",
       "      <td>25.2</td>\n",
       "      <td>4.8</td>\n",
       "      <td>24.8</td>\n",
       "      <td>51.9</td>\n",
       "      <td>10.5</td>\n",
       "      <td>54.6</td>\n",
       "    </tr>\n",
       "    <tr>\n",
       "      <th>7</th>\n",
       "      <td>40.4</td>\n",
       "      <td>19.9</td>\n",
       "      <td>40.6</td>\n",
       "      <td>34.3</td>\n",
       "      <td>11.2</td>\n",
       "      <td>2.0</td>\n",
       "      <td>24.5</td>\n",
       "      <td>4.9</td>\n",
       "      <td>24.0</td>\n",
       "      <td>52.2</td>\n",
       "      <td>9.9</td>\n",
       "      <td>54.7</td>\n",
       "    </tr>\n",
       "    <tr>\n",
       "      <th>8</th>\n",
       "      <td>40.3</td>\n",
       "      <td>20.7</td>\n",
       "      <td>40.1</td>\n",
       "      <td>35.2</td>\n",
       "      <td>10.9</td>\n",
       "      <td>1.4</td>\n",
       "      <td>25.0</td>\n",
       "      <td>4.0</td>\n",
       "      <td>24.6</td>\n",
       "      <td>51.9</td>\n",
       "      <td>10.3</td>\n",
       "      <td>54.1</td>\n",
       "    </tr>\n",
       "    <tr>\n",
       "      <th>9</th>\n",
       "      <td>40.2</td>\n",
       "      <td>20.3</td>\n",
       "      <td>40.3</td>\n",
       "      <td>34.7</td>\n",
       "      <td>11.0</td>\n",
       "      <td>1.3</td>\n",
       "      <td>25.4</td>\n",
       "      <td>4.4</td>\n",
       "      <td>25.1</td>\n",
       "      <td>51.5</td>\n",
       "      <td>10.8</td>\n",
       "      <td>54.0</td>\n",
       "    </tr>\n",
       "  </tbody>\n",
       "</table>\n",
       "</div>"
      ],
      "text/plain": [
       "  Straight Motion Unnamed: 1_level_0 Unnamed: 2_level_0 Unnamed: 3_level_0  \\\n",
       "      Right wheel Unnamed: 1_level_1         Left Wheel Unnamed: 3_level_1   \n",
       "            x(cm)              y(cm)              x(cm)              y(cm)   \n",
       "0            40.3               20.3               40.2               34.9   \n",
       "1            40.3               20.3               40.3               34.8   \n",
       "2            40.2               20.9               40.0               35.3   \n",
       "3            40.2               20.5               40.0               35.0   \n",
       "4            40.5               20.1               40.4               34.6   \n",
       "5            40.5               20.0               40.4               34.5   \n",
       "6            40.6               20.3               40.8               34.8   \n",
       "7            40.4               19.9               40.6               34.3   \n",
       "8            40.3               20.7               40.1               35.2   \n",
       "9            40.2               20.3               40.3               34.7   \n",
       "\n",
       "  Right turn Motion Unnamed: 5_level_0 Unnamed: 6_level_0 Unnamed: 7_level_0  \\\n",
       "        Right wheel Unnamed: 5_level_1         Left Wheel Unnamed: 7_level_1   \n",
       "              x(cm)              y(cm)              x(cm)              y(cm)   \n",
       "0              10.9                1.5               25.1                4.2   \n",
       "1              10.3                1.2               24.5                3.5   \n",
       "2              10.4                1.3               24.6                4.0   \n",
       "3              10.9                1.6               25.1                4.3   \n",
       "4              10.4                1.4               24.2                4.0   \n",
       "5              10.0                0.9               24.4                3.2   \n",
       "6              11.0                1.6               25.2                4.8   \n",
       "7              11.2                2.0               24.5                4.9   \n",
       "8              10.9                1.4               25.0                4.0   \n",
       "9              11.0                1.3               25.4                4.4   \n",
       "\n",
       "  Left turn Motion Unnamed: 9_level_0 Unnamed: 10_level_0 Unnamed: 11_level_0  \n",
       "       Right wheel Unnamed: 9_level_1          Left Wheel Unnamed: 11_level_1  \n",
       "             x(cm)              y(cm)               x(cm)               y(cm)  \n",
       "0             25.0               51.5                10.8                54.3  \n",
       "1             25.0               51.3                11.2                54.1  \n",
       "2             25.1               51.4                10.9                54.0  \n",
       "3             25.0               51.6                10.5                54.9  \n",
       "4             25.1               51.4                10.9                54.0  \n",
       "5             25.2               51.1                10.5                54.9  \n",
       "6             24.8               51.9                10.5                54.6  \n",
       "7             24.0               52.2                 9.9                54.7  \n",
       "8             24.6               51.9                10.3                54.1  \n",
       "9             25.1               51.5                10.8                54.0  "
      ]
     },
     "metadata": {},
     "output_type": "display_data"
    }
   ],
   "source": [
    "data = pandas.read_csv('data/motionData.csv', header=[0,1,2])\n",
    "display(data.head(10))"
   ]
  },
  {
   "cell_type": "code",
   "execution_count": 3,
   "metadata": {
    "collapsed": true
   },
   "outputs": [],
   "source": [
    "database = data.as_matrix()\n",
    "data_array = database.copy()\n",
    "straight_motion_data = data_array[:,0:4]\n",
    "right_turn_data = data_array[:,4:8]\n",
    "left_turn_data = data_array[:,8:12]"
   ]
  },
  {
   "cell_type": "code",
   "execution_count": 4,
   "metadata": {
    "collapsed": true
   },
   "outputs": [],
   "source": [
    "wheel_Rx_s = straight_motion_data[:,0]\n",
    "wheel_Ry_s = straight_motion_data[:,1]\n",
    "wheel_Lx_s = straight_motion_data[:,2]\n",
    "wheel_Ly_s = straight_motion_data[:,3]\n",
    "\n",
    "wheel_Rx_r = right_turn_data[:,0]\n",
    "wheel_Ry_r = right_turn_data[:,1]\n",
    "wheel_Lx_r = right_turn_data[:,2]\n",
    "wheel_Ly_r = right_turn_data[:,3]\n",
    "\n",
    "wheel_Rx_l = left_turn_data[:,0]\n",
    "wheel_Ry_l = left_turn_data[:,1]\n",
    "wheel_Lx_l = left_turn_data[:,2]\n",
    "wheel_Ly_l = left_turn_data[:,3]"
   ]
  },
  {
   "cell_type": "code",
   "execution_count": 5,
   "metadata": {
    "collapsed": true
   },
   "outputs": [],
   "source": [
    "# Starting position for robot\n",
    "wheel_Rx0_s = 0.0\n",
    "wheel_Ry0_s = 20.6\n",
    "wheel_Lx0_s = 0.0\n",
    "wheel_Ly0_s = 35.1\n",
    "\n",
    "wheel_Rx0_r = 0.0\n",
    "wheel_Ry0_r = 20.6\n",
    "wheel_Lx0_r = 0.0\n",
    "wheel_Ly0_r = 35.1\n",
    "\n",
    "wheel_Rx0_l = 0.0\n",
    "wheel_Ry0_l = 20.6\n",
    "wheel_Lx0_l = 0.0\n",
    "wheel_Ly0_l = 35.1"
   ]
  },
  {
   "cell_type": "code",
   "execution_count": 6,
   "metadata": {
    "collapsed": true
   },
   "outputs": [],
   "source": [
    "# Distance travelled by robot wheels\n",
    "s_rx_distance = wheel_Rx_s - wheel_Rx0_s\n",
    "s_ry_distance = wheel_Ry_s - wheel_Ry0_s\n",
    "s_lx_distance = wheel_Lx_s - wheel_Lx0_s\n",
    "s_ly_distance = wheel_Ly_s - wheel_Ly0_s\n",
    "\n",
    "r_rx_distance = wheel_Rx_r - wheel_Rx0_r\n",
    "r_ry_distance = wheel_Ry_r - wheel_Ry0_r\n",
    "r_lx_distance = wheel_Lx_r - wheel_Lx0_r\n",
    "r_ly_distance = wheel_Ly_r - wheel_Ly0_r\n",
    "\n",
    "l_rx_distance = wheel_Rx_l - wheel_Rx0_l\n",
    "l_ry_distance = wheel_Ry_l - wheel_Ry0_l\n",
    "l_lx_distance = wheel_Lx_l - wheel_Lx0_l\n",
    "l_ly_distance = wheel_Ly_l - wheel_Ly0_l\n",
    "\n",
    "# If negative, take absolute value\n",
    "s_rx_distance = np.absolute(s_rx_distance)\n",
    "s_ry_distance = np.absolute(s_ry_distance)\n",
    "s_lx_distance = np.absolute(s_lx_distance)\n",
    "s_ly_distance = np.absolute(s_ly_distance)\n",
    "\n",
    "r_rx_distance = np.absolute(r_rx_distance)\n",
    "r_ry_distance = np.absolute(r_ry_distance)\n",
    "r_lx_distance = np.absolute(r_lx_distance)\n",
    "r_ly_distance = np.absolute(r_ly_distance)\n",
    "\n",
    "l_rx_distance = np.absolute(l_rx_distance)\n",
    "l_ry_distance = np.absolute(l_ry_distance)\n",
    "l_lx_distance = np.absolute(l_lx_distance)\n",
    "l_ly_distance = np.absolute(l_ly_distance)"
   ]
  },
  {
   "cell_type": "code",
   "execution_count": 7,
   "metadata": {},
   "outputs": [
    {
     "data": {
      "text/plain": [
       "'Left turn motion: standard deviation in right wheel'"
      ]
     },
     "metadata": {},
     "output_type": "display_data"
    },
    {
     "data": {
      "text/plain": [
       "0.30495901363953826"
      ]
     },
     "metadata": {},
     "output_type": "display_data"
    },
    {
     "data": {
      "text/plain": [
       "0.32599846625406109"
      ]
     },
     "metadata": {},
     "output_type": "display_data"
    }
   ],
   "source": [
    "display('Left turn motion: standard deviation in right wheel', np.std(wheel_Rx_l), np.std(wheel_Ry_l))"
   ]
  },
  {
   "cell_type": "code",
   "execution_count": 8,
   "metadata": {},
   "outputs": [
    {
     "data": {
      "text/plain": [
       "'Left turn motion: standard deviation in left wheel'"
      ]
     },
     "metadata": {},
     "output_type": "display_data"
    },
    {
     "data": {
      "text/plain": [
       "0.3290516676754579"
      ]
     },
     "metadata": {},
     "output_type": "display_data"
    },
    {
     "data": {
      "text/plain": [
       "0.32752862470324623"
      ]
     },
     "metadata": {},
     "output_type": "display_data"
    }
   ],
   "source": [
    "display('Left turn motion: standard deviation in left wheel', np.std(wheel_Lx_l), np.std(wheel_Ly_l))"
   ]
  },
  {
   "cell_type": "code",
   "execution_count": 9,
   "metadata": {},
   "outputs": [
    {
     "data": {
      "text/plain": [
       "'Right turn motion: standard deviation in right wheel'"
      ]
     },
     "metadata": {},
     "output_type": "display_data"
    },
    {
     "data": {
      "text/plain": [
       "0.34770677301427416"
      ]
     },
     "metadata": {},
     "output_type": "display_data"
    },
    {
     "data": {
      "text/plain": [
       "0.24794152536434874"
      ]
     },
     "metadata": {},
     "output_type": "display_data"
    }
   ],
   "source": [
    "display('Right turn motion: standard deviation in right wheel', np.std(wheel_Rx_r), np.std(wheel_Ry_r))"
   ]
  },
  {
   "cell_type": "code",
   "execution_count": 10,
   "metadata": {},
   "outputs": [
    {
     "data": {
      "text/plain": [
       "'Right turn motion: standard deviation in left wheel'"
      ]
     },
     "metadata": {},
     "output_type": "display_data"
    },
    {
     "data": {
      "text/plain": [
       "0.37403208418530054"
      ]
     },
     "metadata": {},
     "output_type": "display_data"
    },
    {
     "data": {
      "text/plain": [
       "0.50187149749711835"
      ]
     },
     "metadata": {},
     "output_type": "display_data"
    }
   ],
   "source": [
    "display('Right turn motion: standard deviation in left wheel', np.std(wheel_Lx_r), np.std(wheel_Ly_r))"
   ]
  },
  {
   "cell_type": "code",
   "execution_count": 11,
   "metadata": {},
   "outputs": [
    {
     "data": {
      "text/plain": [
       "'Straight motion: standard deviation in right wheel'"
      ]
     },
     "metadata": {},
     "output_type": "display_data"
    },
    {
     "data": {
      "text/plain": [
       "0.19131126469709028"
      ]
     },
     "metadata": {},
     "output_type": "display_data"
    },
    {
     "data": {
      "text/plain": [
       "0.45439520243946224"
      ]
     },
     "metadata": {},
     "output_type": "display_data"
    }
   ],
   "source": [
    "display('Straight motion: standard deviation in right wheel', np.std(wheel_Rx_s), np.std(wheel_Ry_s))"
   ]
  },
  {
   "cell_type": "code",
   "execution_count": 12,
   "metadata": {},
   "outputs": [
    {
     "data": {
      "text/plain": [
       "'Straight motion: standard deviation in left wheel'"
      ]
     },
     "metadata": {},
     "output_type": "display_data"
    },
    {
     "data": {
      "text/plain": [
       "0.27928480087537833"
      ]
     },
     "metadata": {},
     "output_type": "display_data"
    },
    {
     "data": {
      "text/plain": [
       "0.49585784253150711"
      ]
     },
     "metadata": {},
     "output_type": "display_data"
    }
   ],
   "source": [
    "display('Straight motion: standard deviation in left wheel', np.std(wheel_Lx_s), np.std(wheel_Ly_s))"
   ]
  },
  {
   "cell_type": "code",
   "execution_count": 13,
   "metadata": {
    "collapsed": true
   },
   "outputs": [],
   "source": [
    "# Mean of distance travelled by wheels\n",
    "s_rx_distance_mean = s_rx_distance.mean()\n",
    "s_ry_distance_mean = s_ry_distance.mean()\n",
    "s_lx_distance_mean = s_lx_distance.mean()\n",
    "s_ly_distance_mean = s_ly_distance.mean()\n",
    "\n",
    "r_rx_distance_mean = r_rx_distance.mean()\n",
    "r_ry_distance_mean = r_ry_distance.mean()\n",
    "r_lx_distance_mean = r_lx_distance.mean()\n",
    "r_ly_distance_mean = r_ly_distance.mean()\n",
    "\n",
    "l_rx_distance_mean = l_rx_distance.mean()\n",
    "l_ry_distance_mean = l_ry_distance.mean()\n",
    "l_lx_distance_mean = l_lx_distance.mean()\n",
    "l_ly_distance_mean = l_ly_distance.mean()"
   ]
  },
  {
   "cell_type": "code",
   "execution_count": 14,
   "metadata": {
    "collapsed": true
   },
   "outputs": [],
   "source": [
    "def plot_data(rx, ry, lx, ly, rx0, ry0, lx0, ly0, whichData):\n",
    "    rx_mean = rx.mean()\n",
    "    ry_mean = ry.mean()\n",
    "    lx_mean = lx.mean()\n",
    "    ly_mean = ly.mean()\n",
    "    \n",
    "    fig, ax = plt.subplots()\n",
    "    Rwheel = ax.scatter(rx, ry, c='g', label=('right wheel'.format(whichData)))\n",
    "    Lwheel = ax.scatter(lx, ly, c='b', label=('left wheel'.format(whichData)))\n",
    "    Rwheel_mean = ax.scatter(rx_mean, ry_mean, c='r', marker='x',\\\n",
    "                                      label=('right wheel mean value'.format(whichData)))\n",
    "    Lwheel_mean = ax.scatter(lx_mean, ly_mean, c='r', marker='x',\\\n",
    "                                      label=('left wheel mean value'.format(whichData)))\n",
    "    Rwheel_init = ax.scatter(rx0, ry0, c='g', marker='+',\n",
    "                             label=('right wheel initial'.format(whichData)))\n",
    "    Lwheel_init = ax.scatter(lx0, ly0, c='b', marker='+',\\\n",
    "                             label=('left wheel initial'.format(whichData)))\n",
    "    ax.legend()\n",
    "    title = whichData+' motion of Lego robot'\n",
    "    ax.set_title(title)\n",
    "    fig.savefig('images/'+whichData)\n",
    "    plt.show()\n",
    "    plt.close()"
   ]
  },
  {
   "cell_type": "code",
   "execution_count": 15,
   "metadata": {},
   "outputs": [
    {
     "data": {
      "image/png": "[encoded data removed]",
      "text/plain": [
       "<matplotlib.figure.Figure at 0x7f4eb4ebfe80>"
      ]
     },
     "metadata": {},
     "output_type": "display_data"
    }
   ],
   "source": [
    "plot_data(wheel_Rx_s,wheel_Ry_s,wheel_Lx_s,wheel_Ly_s,\\\n",
    "          wheel_Rx0_s,wheel_Ry0_s,wheel_Lx0_s,wheel_Ly0_s,whichData='Straight')"
   ]
  },
  {
   "cell_type": "code",
   "execution_count": 16,
   "metadata": {},
   "outputs": [
    {
     "data": {
      "image/png": "[encoded data removed]",
      "text/plain": [
       "<matplotlib.figure.Figure at 0x7f4eb4e43198>"
      ]
     },
     "metadata": {},
     "output_type": "display_data"
    }
   ],
   "source": [
    "plot_data(wheel_Rx_r,wheel_Ry_r,wheel_Lx_r,wheel_Ly_r,\\\n",
    "          wheel_Rx0_r,wheel_Ry0_r,wheel_Lx0_r,wheel_Ly0_r,whichData='Right-turn')"
   ]
  },
  {
   "cell_type": "code",
   "execution_count": 17,
   "metadata": {},
   "outputs": [
    {
     "data": {
      "image/png": "[encoded data removed]",
      "text/plain": [
       "<matplotlib.figure.Figure at 0x7f4eb154ff28>"
      ]
     },
     "metadata": {},
     "output_type": "display_data"
    }
   ],
   "source": [
    "plot_data(wheel_Rx_l,wheel_Ry_l,wheel_Lx_l,wheel_Ly_l,\\\n",
    "          wheel_Rx0_l,wheel_Ry0_l,wheel_Lx0_l,wheel_Ly0_l,whichData='Left-turn')"
   ]
  }
 ],
 "metadata": {
  "kernelspec": {
   "display_name": "Python 3",
   "language": "python",
   "name": "python3"
  },
  "language_info": {
   "codemirror_mode": {
    "name": "ipython",
    "version": 3
   },
   "file_extension": ".py",
   "mimetype": "text/x-python",
   "name": "python",
   "nbconvert_exporter": "python",
   "pygments_lexer": "ipython3",
   "version": "3.6.3"
  }
 },
 "nbformat": 4,
 "nbformat_minor": 2
}
